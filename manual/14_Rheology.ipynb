{
 "cells": [
  {
   "cell_type": "markdown",
   "metadata": {},
   "source": [
    "# Rheology"
   ]
  },
  {
   "cell_type": "code",
   "execution_count": 11,
   "metadata": {},
   "outputs": [],
   "source": [
    "import UWGeodynamics as GEO\n",
    "\n",
    "u = GEO.u"
   ]
  },
  {
   "cell_type": "markdown",
   "metadata": {},
   "source": [
    "# Viscous Rheology\n",
    "\n",
    "## Registry / Database"
   ]
  },
  {
   "cell_type": "code",
   "execution_count": 12,
   "metadata": {},
   "outputs": [],
   "source": [
    "rh = GEO.rheologies"
   ]
  },
  {
   "cell_type": "code",
   "execution_count": 13,
   "metadata": {},
   "outputs": [
    {
     "data": {
      "text/plain": [
       "<UWGeodynamics._rheology.ViscousCreep at 0x7f686e268690>"
      ]
     },
     "execution_count": 13,
     "metadata": {},
     "output_type": "execute_result"
    }
   ],
   "source": [
    "rh.Brace_et_al_1980"
   ]
  },
  {
   "cell_type": "code",
   "execution_count": 14,
   "metadata": {},
   "outputs": [
    {
     "data": {
      "text/plain": [
       "<UWGeodynamics._rheology.ViscousCreep at 0x7f686e268810>"
      ]
     },
     "execution_count": 14,
     "metadata": {},
     "output_type": "execute_result"
    }
   ],
   "source": [
    "rh.Karato_and_Wu_1990"
   ]
  },
  {
   "cell_type": "markdown",
   "metadata": {},
   "source": [
    "## User Defined"
   ]
  },
  {
   "cell_type": "markdown",
   "metadata": {},
   "source": [
    "### Constant viscosity"
   ]
  },
  {
   "cell_type": "code",
   "execution_count": 23,
   "metadata": {},
   "outputs": [],
   "source": [
    "viscosity = 1e21 * u.pascal * u.second\n",
    "viscosity = GEO.ConstantViscosity(1e21 * u.pascal * u.second)"
   ]
  },
  {
   "cell_type": "code",
   "execution_count": 25,
   "metadata": {},
   "outputs": [],
   "source": [
    "viscosity = GEO.ViscousCreep(preExponentialFactor=1.0, \n",
    "                             stressExponent=1.0, \n",
    "                             defaultStrainRateInvariant=1e-13 / u.second, \n",
    "                             activationVolume=0., \n",
    "                             activationEnergy=200 * u.kilojoules,\n",
    "                             waterFugacity=0.0,\n",
    "                             grainSize=0.0,\n",
    "                             meltFraction=0.,\n",
    "                             grainSizeExponent=0., \n",
    "                             waterFugacityExponent=0., \n",
    "                             meltFractionFactor=0.0,\n",
    "                             f=1.0)"
   ]
  },
  {
   "cell_type": "code",
   "execution_count": 26,
   "metadata": {},
   "outputs": [
    {
     "data": {
      "text/html": [
       "200 kilojoule"
      ],
      "text/latex": [
       "$200\\ \\mathrm{kilojoule}$"
      ],
      "text/plain": [
       "<Quantity(200, 'kilojoule')>"
      ]
     },
     "execution_count": 26,
     "metadata": {},
     "output_type": "execute_result"
    }
   ],
   "source": [
    "viscosity.activationEnergy"
   ]
  },
  {
   "cell_type": "code",
   "execution_count": 27,
   "metadata": {},
   "outputs": [],
   "source": [
    "viscosity.activationEnergy = 300. * u.kilojoule"
   ]
  },
  {
   "cell_type": "markdown",
   "metadata": {},
   "source": [
    "# Plastic Rheology (Yield)"
   ]
  },
  {
   "cell_type": "code",
   "execution_count": 7,
   "metadata": {},
   "outputs": [],
   "source": [
    "pl = GEO.yieldCriteria"
   ]
  },
  {
   "cell_type": "code",
   "execution_count": 8,
   "metadata": {},
   "outputs": [
    {
     "data": {
      "text/plain": [
       "<UWGeodynamics._rheology.DruckerPrager at 0x7f6868a44290>"
      ]
     },
     "execution_count": 8,
     "metadata": {},
     "output_type": "execute_result"
    }
   ],
   "source": [
    "pl.Rey_et_al_2010_LowerCrust"
   ]
  },
  {
   "cell_type": "code",
   "execution_count": 9,
   "metadata": {},
   "outputs": [
    {
     "data": {
      "text/plain": [
       "<UWGeodynamics._rheology.DruckerPrager at 0x7f6868a44590>"
      ]
     },
     "execution_count": 9,
     "metadata": {},
     "output_type": "execute_result"
    }
   ],
   "source": [
    "pl.Huismans_et_al_2011_Crust"
   ]
  },
  {
   "cell_type": "markdown",
   "metadata": {},
   "source": [
    "### User Defined"
   ]
  },
  {
   "cell_type": "code",
   "execution_count": 29,
   "metadata": {},
   "outputs": [],
   "source": [
    "plasticity = GEO.DruckerPrager(cohesion=10. * u.megapascal, \n",
    "                               cohesionAfterSoftening=10. * u.megapascal, \n",
    "                               frictionCoefficient = 0.3,\n",
    "                               frictionAfterSoftening = 0.2,\n",
    "                               epsilon1=0.5,\n",
    "                               epsilon2=1.5)"
   ]
  }
 ],
 "metadata": {
  "kernelspec": {
   "display_name": "Python 2",
   "language": "python",
   "name": "python2"
  },
  "language_info": {
   "codemirror_mode": {
    "name": "ipython",
    "version": 2
   },
   "file_extension": ".py",
   "mimetype": "text/x-python",
   "name": "python",
   "nbconvert_exporter": "python",
   "pygments_lexer": "ipython2",
   "version": "2.7.13"
  }
 },
 "nbformat": 4,
 "nbformat_minor": 2
}
