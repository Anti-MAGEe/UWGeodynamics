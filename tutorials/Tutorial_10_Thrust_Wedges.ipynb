{
 "cells": [
  {
   "cell_type": "markdown",
   "metadata": {},
   "source": [
    "# Thust Wedge Tutorial\n",
    "This tutorial is mostly based off Ruh et al. (2013) and other similar stuides, which examine the development thrust sheet and or accretionary wegdes with visco-plastic rheologies .In this 2D model, the boundary conditions, initial conditions,geometry material properties are based on Ruh et al. and other such similar studies.(see Ruh et al. 2013 and references therein: J.B. Ruh, T. Gerya nd J.-P. Burg (2013), G3, v.14(4), p. 1131-1155)"
   ]
  },
  {
   "cell_type": "code",
   "execution_count": null,
   "metadata": {},
   "outputs": [],
   "source": [
    "import os\n",
    "import UWGeodynamics as GEO\n",
    "import numpy as np\n",
    "import glucifer"
   ]
  },
  {
   "cell_type": "markdown",
   "metadata": {},
   "source": [
    "### Model Scalling"
   ]
  },
  {
   "cell_type": "code",
   "execution_count": null,
   "metadata": {},
   "outputs": [],
   "source": [
    "u = GEO.UnitRegistry\n",
    "\n",
    "velocity = 1 * u.centimeter / u.year\n",
    "model_length = 100. * u.kilometer\n",
    "bodyforce = 2700. * u.kilogram / u.metre**3 * 9.81 * u.meter / u.second**2\n",
    "\n",
    "KL = model_length\n",
    "Kt = KL / velocity\n",
    "KM = bodyforce * KL**2 * Kt**2\n",
    "\n",
    "GEO.scaling[\"[length]\"] = KL\n",
    "GEO.scaling[\"[time]\"] = Kt\n",
    "GEO.scaling[\"[mass]\"] = KM"
   ]
  },
  {
   "cell_type": "code",
   "execution_count": null,
   "metadata": {},
   "outputs": [],
   "source": [
    "Model = GEO.Model(\n",
    "    elementRes=(256 , 64),# for better shearbands use 512x128\n",
    "    minCoord=(0. * u.kilometer, -7 * u.kilometer),\n",
    "    maxCoord=(128. * u.kilometer, 9. * u.kilometer),\n",
    "    gravity=(0.0, -9.81 * u.meter / u.second**2))\n",
    "\n",
    "Model.outputDir = \"outputs_tutorial9\"\n"
   ]
  },
  {
   "cell_type": "markdown",
   "metadata": {},
   "source": [
    "### Material Setup"
   ]
  },
  {
   "cell_type": "code",
   "execution_count": null,
   "metadata": {},
   "outputs": [],
   "source": [
    "stickyAirLayer = Model.add_material(\n",
    "    name=\"Air\", shape=GEO.shapes.Layer(top=Model.top, bottom=0. * u.kilometer))\n",
    "\n",
    "\n",
    "plTop = stickyAirLayer.bottom\n",
    "plBot = -6 * u.kilometer\n",
    "plasticLayerThickness = plTop - plBot\n",
    "\n",
    "plasticLayerheight = .5 * u.kilometer\n",
    "plasticLayerNos = plasticLayerThickness / plasticLayerheight\n",
    "plasticLayers = [Model.add_material(name='Plastic' + str(i),\n",
    "       shape=GEO.shapes.Layer(top=plTop - i * plasticLayerheight,\n",
    "       bottom=plTop - (i * plasticLayerheight + plasticLayerheight)))\n",
    "       for i in range(int(plasticLayerNos.magnitude))]\n",
    "\n",
    "\n",
    "frictionalBasalLayer = Model.add_material(\n",
    "    name=\"Basal_Frictional_Layer\",\n",
    "    shape=GEO.shapes.Layer(\n",
    "        top=plasticLayers[-1].bottom, bottom=plasticLayers[-1].bottom-.5 * u.kilometer))\n",
    "\n",
    "rigidBase = Model.add_material(\n",
    "    name=\"Rigid_Base\",\n",
    "    shape=GEO.shapes.Layer(top=frictionalBasalLayer.bottom, bottom=Model.bottom))\n",
    "sediment = Model.add_material(name=\"Sediment\")"
   ]
  },
  {
   "cell_type": "code",
   "execution_count": null,
   "metadata": {},
   "outputs": [],
   "source": [
    "figSize =(1200,250)\n",
    "fnSize = 1.8\n",
    "figQuality=3\n",
    "store=None\n",
    "# store=Model.outputDir+'/FigStore.gldb'\n",
    "layeredColours=int(plasticLayerNos/2)*'#425e6a salmon '+'tan #3A3A3A #00a8a8'\n",
    "bBox=((GEO.nd(Model.minCoord[0]), GEO.nd(Model.minCoord[1])),\n",
    "                 (GEO.nd(Model.maxCoord[0]), GEO.nd(Model.maxCoord[1])))\n",
    "\n",
    "figMaterial = glucifer.Figure(store, figsize=figSize, quality=figQuality,boundingBox=bBox,\n",
    "                              name=\"Materials\", title=\"Material Map\")\n",
    "figMaterial.Points(Model.swarm, Model.materialField,fn_size=fnSize,\n",
    "                   colours=layeredColours,discrete=True,\n",
    "                   valueRange=[plasticLayers[0].index, sediment.index],\n",
    "                   fn_mask=Model.materialField > stickyAirLayer.index)\n",
    "figMaterial.objects[0].colourBar[\"binlabels\"] = True\n",
    "figMaterial.show()"
   ]
  },
  {
   "cell_type": "code",
   "execution_count": null,
   "metadata": {},
   "outputs": [],
   "source": [
    "stickyAirLayer.density = 1. * u.kilogram / u.metre**3\n",
    "for plasticLayer in plasticLayers:\n",
    "    plasticLayer.density = 2700. * u.kilogram / u.metre**3\n",
    "frictionalBasalLayer.density = 2700. * u.kilogram / u.metre**3\n",
    "rigidBase.density = 2700. * u.kilogram / u.metre**3\n",
    "sediment.density = 2700. * u.kilogram / u.metre**3"
   ]
  },
  {
   "cell_type": "markdown",
   "metadata": {},
   "source": [
    "### Model Rheology, a basic Visco-Plastic Rheology of Drucker Prager Type"
   ]
  },
  {
   "cell_type": "code",
   "execution_count": null,
   "metadata": {},
   "outputs": [],
   "source": [
    "Model.maxViscosity = 1e23 * u.pascal * u.second\n",
    "Model.minViscosity = 1e19 * u.pascal * u.second\n",
    " \n",
    "stickyAirLayer.viscosity = GEO.ConstantViscosity(1e19 * u.pascal * u.second)\n",
    "for plasticLayer in plasticLayers:\n",
    "    plasticLayer.viscosity = 1e23 * u.pascal * u.second\n",
    "    plasticLayer.maxViscosity = 1e23 * u.pascal * u.second\n",
    "    plasticLayer.minViscosity = 5e19 * u.pascal * u.second\n",
    "\n",
    "frictionalBasalLayer.viscosity = 1e23 * u.pascal * u.second\n",
    "rigidBase.viscosity = GEO.ConstantViscosity(1e23 * u.pascal * u.second)\n",
    "sediment.viscosity = GEO.ConstantViscosity(1e23 * u.pascal * u.second)\n",
    "\n",
    "\n",
    "for plasticLayer in plasticLayers:\n",
    "    plasticLayer.plasticity = GEO.DruckerPrager(\n",
    "        cohesion=20. * u.megapascal,\n",
    "        cohesionAfterSoftening=4. * u.megapascal,\n",
    "        frictionCoefficient=np.tan(np.radians(25.0)),\n",
    "        frictionAfterSoftening=np.tan(np.radians(20.0)),\n",
    "        epsilon1=0.01,\n",
    "        epsilon2=0.06\n",
    "    )\n",
    "\n",
    "frictionalBasalLayer.plasticity = GEO.DruckerPrager(\n",
    "    cohesion=0.1 * u.megapascal,\n",
    "    #cohesionAfterSoftening=0.001 * u.pascal,\n",
    "    frictionCoefficient=np.tan(np.radians(12.0)),\n",
    "    frictionAfterSoftening=np.tan(np.radians(6.0)),\n",
    "    epsilon1=0.01,\n",
    "    epsilon2=0.06\n",
    ")\n",
    "# sediment.plasticity = GEO.DruckerPrager(\n",
    "#    cohesion=20. * u.megapascal,\n",
    "#     cohesionAfterSoftening=4. * u.megapascal,\n",
    "#    frictionCoefficient=np.tan(np.radians(25.0)),\n",
    "#     frictionAfterSoftening=np.tan(np.radians(15.0)),\n",
    "#     epsilon1=0.01,\n",
    "#     epsilon2=0.6\n",
    "# )"
   ]
  },
  {
   "cell_type": "markdown",
   "metadata": {},
   "source": [
    "### Velocity Boundary Conditions\n",
    "The rigid base has the same velocity(=1cm/year,or velocity of the left wall), the linear gradational velocity is in the low frictional layer, this prevents the rigid bottom sheet from bending at the left edge, moreover as the rigid bottom sheet is analogous to a Mylar(PET) conveyor belt / sheet in sandbox models(Konstantinovskaya and Malavieille, 2011[https://doi.org/10.1016/j.tecto.2011.01.020], or Bose et al 2014[https://doi.org/10.1016/j.jsg.2014.07.004]) "
   ]
  },
  {
   "cell_type": "code",
   "execution_count": null,
   "metadata": {},
   "outputs": [],
   "source": [
    "tapeL=frictionalBasalLayer\n",
    "flthick=GEO.nd(tapeL.top-tapeL.bottom)\n",
    "conditions = [(Model.y <= GEO.nd(rigidBase.top), GEO.nd(-velocity)),\n",
    "              (Model.y < GEO.nd(tapeL.top),\n",
    "               GEO.nd(-velocity)*(flthick-(Model.y-GEO.nd(tapeL.bottom)))/flthick),\n",
    "              (True, GEO.nd(0. * u.centimeter / u.year))]\n",
    "\n",
    "Model.set_velocityBCs(left=[conditions, 0.],\n",
    "                      right=[-velocity, None],\n",
    "                      top=[None, None],\n",
    "                      bottom=[-velocity, 0.])\n"
   ]
  },
  {
   "cell_type": "code",
   "execution_count": null,
   "metadata": {},
   "outputs": [],
   "source": [
    "figVelocity=glucifer.Figure(store, figsize=figSize, name=\"Velocity Map\",boundingBox=bBox)\n",
    "figVelocity.Surface(Model.mesh,GEO.uw.function.math.dot(Model.velocityField, Model.velocityField),colours='spectral')"
   ]
  },
  {
   "cell_type": "code",
   "execution_count": null,
   "metadata": {},
   "outputs": [],
   "source": [
    "figSr = glucifer.Figure(\n",
    "    figsize=figSize,\n",
    "    quality=figQuality,\n",
    "    title=\"Strain Rate (1/s)\",\n",
    "    boundingBox=bBox)\n",
    "figSr.Points(\n",
    "    Model.swarm,\n",
    "    Model._strainRate_2ndInvariant * GEO.Dimensionalize(\n",
    "        1.0, 1. / u.seconds).magnitude,\n",
    "    logScale=True,\n",
    "    colours=lavavu.matplotlib_colourmap(\"viridis\"),\n",
    "    valueRange=[1e-18, 1e-13],\n",
    "    fn_mask=Model.materialField > stickyAirLayer.index,\n",
    "    fn_size=fnSize)\n",
    "figSr.show()"
   ]
  },
  {
   "cell_type": "code",
   "execution_count": null,
   "metadata": {},
   "outputs": [],
   "source": [
    "figPlasticStrain = glucifer.Figure(store, figsize=figSize, boundingBox=bBox, quality=figQuality,\n",
    "                               name=\"Plastic Strain Map\", title=\"Accumulated Plastic Strain Map\")\n",
    "figPlasticStrain.Points(Model.swarm, Model.plasticStrain, \n",
    "                        fn_size=fnSize,\n",
    "                        colours=lavavu.matplotlib_colourmap(\"magma_r\"),\n",
    "                        fn_mask=Model.materialField > stickyAirLayer.index,\n",
    "                        valueRange=[0.0, 4.0])\n",
    "figPlasticStrain.show() "
   ]
  },
  {
   "cell_type": "code",
   "execution_count": null,
   "metadata": {},
   "outputs": [],
   "source": [
    "if(GEO.uw.nProcs() == 1):\n",
    "#     GEO.rcParams[\"solver\"] = \"superlu\"\n",
    "  GEO.rcParams[\"solver\"] = \"lu\"\n",
    "else:\n",
    "    GEO.rcParams[\"solver\"] = \"mumps\"\n",
    "\n",
    "GEO.rcParams[\"penalty\"] = 1e6\n",
    "GEO.rcParams[\"nonlinear.tolerance\"] = 1e-3\n",
    "GEO.rcParams[\"nonlinear.max.iterations\"]=200\n",
    "GEO.rcParams[\"nonlinear.min.iterations\"]=3\n",
    "GEO.rcParams[\"initial.nonlinear.tolerance\"]=1e-5\n",
    "GEO.rcParams[\"initial.nonlinear.max.iterations\"]=500\n",
    "GEO.rcParams[\"popcontrol.particles.per.cell.2D\"]=25\n",
    "\n",
    "Model.init_model()"
   ]
  },
  {
   "cell_type": "markdown",
   "metadata": {},
   "source": [
    "#### Basic Hillslope Diffusion, the code is a WIP (expect to have a similar API as below)"
   ]
  },
  {
   "cell_type": "code",
   "execution_count": null,
   "metadata": {},
   "outputs": [],
   "source": [
    "#Model.surfaceProcesses = GEO.surfaceProcesses.BasicHillSlopeDiffsuion2d(\n",
    "#    Model=Model,\n",
    "#    airIndex=stickyAirLayer.index,\n",
    "#    sedimentIndex=sediment.index,\n",
    "#    diffusivity=GEO.nd(1e-8 * u.metre**2 / u.second))"
   ]
  },
  {
   "cell_type": "code",
   "execution_count": null,
   "metadata": {},
   "outputs": [],
   "source": [
    "Model.run_for(2.0*u.megayears,restartStep=None)"
   ]
  },
  {
   "cell_type": "code",
   "execution_count": null,
   "metadata": {},
   "outputs": [],
   "source": [
    "figSr.show()"
   ]
  },
  {
   "cell_type": "code",
   "execution_count": null,
   "metadata": {},
   "outputs": [],
   "source": [
    "figVelocity.show()"
   ]
  },
  {
   "cell_type": "code",
   "execution_count": null,
   "metadata": {},
   "outputs": [],
   "source": [
    "figViscosity = glucifer.Figure(store, figsize=figSize, boundingBox=bBox, quality=figQuality,\n",
    "                               name=\"Viscosity Map\", title=\"Viscosity Map (Pa.s)\")\n",
    "figViscosity.Points(Model.swarm,GEO.Dimensionalize(Model.viscosityField, u.pascal * u.second),\n",
    "                    logScale=True,\n",
    "                    colours=lavavu.matplotlib_colourmap(\"YlGnBu_r\"),\n",
    "                    fn_size=fnSize,valueRange=[1e19, 1e23],\n",
    "                    fn_mask=Model.materialField > stickyAirLayer.index)\n",
    "figViscosity.objects[0].colourBar[\"tickvalues\"] = [1e19, 1e20, 1e21, 1e22, 1e23]\n",
    "\n",
    "figViscosity.show()"
   ]
  },
  {
   "cell_type": "code",
   "execution_count": null,
   "metadata": {},
   "outputs": [],
   "source": [
    "figPlasticStrain.show()"
   ]
  },
  {
   "cell_type": "code",
   "execution_count": null,
   "metadata": {},
   "outputs": [],
   "source": [
    "figMaterial.show()"
   ]
  },
  {
   "cell_type": "code",
   "execution_count": null,
   "metadata": {},
   "outputs": [],
   "source": []
  }
 ],
 "metadata": {
  "kernelspec": {
   "display_name": "Python 3",
   "language": "python",
   "name": "python3"
  },
  "language_info": {
   "codemirror_mode": {
    "name": "ipython",
    "version": 3
   },
   "file_extension": ".py",
   "mimetype": "text/x-python",
   "name": "python",
   "nbconvert_exporter": "python",
   "pygments_lexer": "ipython3",
   "version": "3.5.3"
  }
 },
 "nbformat": 4,
 "nbformat_minor": 2
}
