{
 "cells": [
  {
   "cell_type": "markdown",
   "metadata": {},
   "source": [
    "Steady state heat equation\n",
    "======\n",
    "\n",
    "This notebook will setup and solve the steady state heat equation:\n",
    "\n",
    "\\\\[\n",
    "\\nabla(k\\nabla)T = h\n",
    "\\\\]\n",
    "\n",
    "where $k$ is the diffusivity, T the temperature field and $h$ the source term.\n",
    "\n",
    "**Keywords:** initial conditions, boundary conditions, heat equation"
   ]
  },
  {
   "cell_type": "code",
   "execution_count": 1,
   "metadata": {},
   "outputs": [
    {
     "name": "stdout",
     "output_type": "stream",
     "text": [
      "loaded rc file /workspace/user_data/UWGeodynamics/UWGeodynamics/uwgeo-data/uwgeodynamicsrc\n"
     ]
    }
   ],
   "source": [
    "import UWGeodynamics as GEO"
   ]
  },
  {
   "cell_type": "markdown",
   "metadata": {},
   "source": [
    "Setup parameters\n",
    "-----"
   ]
  },
  {
   "cell_type": "code",
   "execution_count": 2,
   "metadata": {},
   "outputs": [],
   "source": [
    "u = GEO.UnitRegistry"
   ]
  },
  {
   "cell_type": "code",
   "execution_count": 3,
   "metadata": {},
   "outputs": [],
   "source": [
    "model_length = 20. * u.centimeter\n",
    "model_height = 10. * u.centimeter\n",
    "top_Temp = 273.15 * u.degK\n",
    "base_Temp = 1603.15 * u.degK\n",
    "\n",
    "KL = model_height\n",
    "KT = (base_Temp - top_Temp)\n",
    "\n",
    "GEO.scaling_coefficients[\"[length]\"] = KL\n",
    "GEO.scaling_coefficients[\"[temperature]\"]= KT"
   ]
  },
  {
   "cell_type": "markdown",
   "metadata": {},
   "source": [
    "Create mesh and variables\n",
    "------"
   ]
  },
  {
   "cell_type": "code",
   "execution_count": 4,
   "metadata": {},
   "outputs": [],
   "source": [
    "Model = GEO.Model(elementRes=(16, 8), \n",
    "                  minCoord=(0. * u.centimeter, 0. * u.centimeter), \n",
    "                  maxCoord=(20. * u.centimeter, 10. * u.centimeter))"
   ]
  },
  {
   "cell_type": "code",
   "execution_count": 5,
   "metadata": {},
   "outputs": [
    {
     "data": {
      "text/plain": [
       "[<underworld.conditions._conditions.DirichletCondition at 0x7f03150166a0>]"
      ]
     },
     "execution_count": 5,
     "metadata": {},
     "output_type": "execute_result"
    }
   ],
   "source": [
    "Model.set_temperatureBCs(top=273.15 * u.degK, bottom=1603.15 * u.degK)\n"
   ]
  },
  {
   "cell_type": "code",
   "execution_count": 7,
   "metadata": {},
   "outputs": [
    {
     "data": {
      "text/html": [
       "<img src='data:image/png;base64,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'>"
      ],
      "text/plain": [
       "<IPython.core.display.HTML object>"
      ]
     },
     "metadata": {},
     "output_type": "display_data"
    }
   ],
   "source": [
    "Fig = Model.plot.temperature()"
   ]
  },
  {
   "cell_type": "markdown",
   "metadata": {},
   "source": [
    "Heat Equation System setup & solve\n",
    "-----\n",
    "\n",
    "Temperature field, diffusivity and boundary conditions are passed to the SteadyStateHeat system function."
   ]
  },
  {
   "cell_type": "code",
   "execution_count": 8,
   "metadata": {},
   "outputs": [],
   "source": [
    "Model.diffusivity = 1.0 * u.centimetre**2 / u.hour\n",
    "Model.radiogenicHeatProd = 0.0 * u.microwatt"
   ]
  },
  {
   "cell_type": "code",
   "execution_count": 9,
   "metadata": {},
   "outputs": [
    {
     "data": {
      "text/plain": [
       "<UWGeodynamics.Underworld_extended._meshvariable.MeshVariable at 0x7f034830de80>"
      ]
     },
     "execution_count": 9,
     "metadata": {},
     "output_type": "execute_result"
    }
   ],
   "source": [
    "Model.solve_temperature_steady_state()"
   ]
  },
  {
   "cell_type": "code",
   "execution_count": 10,
   "metadata": {},
   "outputs": [
    {
     "data": {
      "text/html": [
       "<img src='data:image/png;base64,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'>"
      ],
      "text/plain": [
       "<IPython.core.display.HTML object>"
      ]
     },
     "metadata": {},
     "output_type": "display_data"
    }
   ],
   "source": [
    "Fig = Model.plot.temperature()"
   ]
  }
 ],
 "metadata": {
  "kernelspec": {
   "display_name": "Python 3",
   "language": "python",
   "name": "python3"
  },
  "language_info": {
   "codemirror_mode": {
    "name": "ipython",
    "version": 3
   },
   "file_extension": ".py",
   "mimetype": "text/x-python",
   "name": "python",
   "nbconvert_exporter": "python",
   "pygments_lexer": "ipython3",
   "version": "3.5.3"
  }
 },
 "nbformat": 4,
 "nbformat_minor": 1
}
