{
 "cells": [
  {
   "cell_type": "markdown",
   "metadata": {},
   "source": [
    "# PHYS3070: Couette Flow\n",
    "\n",
    "In fluid dynamics, Couette flow is the flow of a\n",
    "viscous fluid in the space between two surfaces, one of which is moving\n",
    "tangentially relative to the other. The configuration often takes the form of\n",
    "two parallel plates or the gap between two concentric cylinders. The flow is\n",
    "driven by virtue of viscous drag force acting on the fluid, but may additionally\n",
    "be motivated by an applied pressure gradient in the flow direction. The Couette\n",
    "configuration models is often use to measure the viscosity of a fluid.\n",
    "\n",
    "This notebook explain how to introduce non-linear viscosity (Stress / Pressure dependent)\n",
    "\n",
    "<img src=\"images/1920px-Laminar_shear.png\" width=\"800\">\n",
    "\n",
    "(source:Wikipedia)\n",
    "\n",
    "## Import UWGeodynamics\n",
    "\n",
    "We will use *UWGeodynamics*, a high-level interface to\n",
    "the Underworld API.\n",
    "The python module can be imported as follow."
   ]
  },
  {
   "cell_type": "code",
   "execution_count": 1,
   "metadata": {},
   "outputs": [
    {
     "name": "stdout",
     "output_type": "stream",
     "text": [
      "loaded rc file /home/jovyan/UWGeodynamics/UWGeodynamics/uwgeo-data/uwgeodynamicsrc\n"
     ]
    }
   ],
   "source": [
    "import UWGeodynamics as GEO\n",
    "from UWGeodynamics import visualisation as vis"
   ]
  },
  {
   "cell_type": "markdown",
   "metadata": {},
   "source": [
    "## Scaling"
   ]
  },
  {
   "cell_type": "code",
   "execution_count": 2,
   "metadata": {},
   "outputs": [],
   "source": [
    "u = GEO.UnitRegistry"
   ]
  },
  {
   "cell_type": "code",
   "execution_count": 3,
   "metadata": {},
   "outputs": [],
   "source": [
    "velocity = 1.0 * u.meter / u.hour\n",
    "model_length = 2. * u.meter\n",
    "model_height = 1. * u.meter\n",
    "refViscosity = 1e6 * u.pascal * u.second\n",
    "bodyforce = 200 * u.kilogram / u.metre**3 * 9.81 * u.meter / u.second**2\n",
    "temperature_diff = 300. * u.degK\n",
    "\n",
    "characteristic_length = model_height\n",
    "characteristic_time = characteristic_length / velocity\n",
    "characteristic_mass = bodyforce * characteristic_length**2 * characteristic_time**2\n",
    "characteristic_temperature = temperature_diff\n",
    "\n",
    "GEO.scaling_coefficients[\"[length]\"] = characteristic_length\n",
    "GEO.scaling_coefficients[\"[time]\"] = characteristic_time\n",
    "GEO.scaling_coefficients[\"[mass]\"]=characteristic_mass\n",
    "GEO.scaling_coefficients[\"[temperature]\"] = characteristic_temperature"
   ]
  },
  {
   "cell_type": "markdown",
   "metadata": {},
   "source": [
    "# Geometry\n",
    "\n",
    "The first step is to define the geometry of our problem, essentially a box on which we will apply some physical constraints and that will contain a set of materials. We can think of it as an \"universe\".\n",
    "The \"laws\" and their effects are calculated on a mesh, that mesh discretized our universe into finite elements.\n",
    "\n",
    "The geodynamics module allows you to quickly set up a model by creating a *Model* object.\n",
    "A series of arguments are required to define a *Model*:\n",
    "\n",
    "    - The number of elements in each direction elementRes=(nx, ny);\n",
    "    - The minimum coordinates for each axis minCoord=(minX, minY)\n",
    "    - The maximum coordinates for each axis maxCoord=(maxX, maxY)\n",
    "    - A vector that defines the magnitude and direction of the gravity components gravity=(gx, gy)\n",
    "\n",
    "We define a tank in 2-dimensions. The dimension of the tank is set to be 1m in height and 1m in width. The extent of the tank is defined using the `minCoord` and `maxCoord` arguments chosen in a way that the origin is located at the center of the tank."
   ]
  },
  {
   "cell_type": "code",
   "execution_count": 4,
   "metadata": {},
   "outputs": [],
   "source": [
    "Model = GEO.Model(elementRes=(128, 64), \n",
    "                  minCoord=(-1.0 * u.m, 0. * u.m), \n",
    "                  maxCoord=(1.0 * u.m, 1.0 * u.m),\n",
    "                  gravity=(0., -9.81 * u.m / u.s**2), \n",
    "                  periodic=(True, False))"
   ]
  },
  {
   "cell_type": "code",
   "execution_count": 5,
   "metadata": {},
   "outputs": [],
   "source": [
    "Model.diffusivity = 1e-6 * u.meter**2 / u.second "
   ]
  },
  {
   "cell_type": "markdown",
   "metadata": {},
   "source": [
    "## Materials\n",
    "\n",
    "Now that we have our \"universe\" (box, sand pit) ready, we need to fill it with some materials.\n",
    "*UWGeodynamics* is designed around that idea of materials, which are essentially a way to define physical properties across the Model domain.\n",
    "\n",
    "A material (or a phase) is first defined by the space it takes in the box (its shape).\n",
    "\n",
    "The tank is filled with a viscous fluid (`background_fluid`)."
   ]
  },
  {
   "cell_type": "code",
   "execution_count": 6,
   "metadata": {},
   "outputs": [],
   "source": [
    "background_fluid = Model.add_material(name=\"Background\", shape=GEO.shapes.Layer2D(top=Model.top, bottom=Model.bottom))"
   ]
  },
  {
   "cell_type": "markdown",
   "metadata": {},
   "source": [
    "### Material properties"
   ]
  },
  {
   "cell_type": "code",
   "execution_count": 7,
   "metadata": {},
   "outputs": [],
   "source": [
    "n = stressExponent = 2.0\n",
    "reference_viscosity = (1e3 * u.pascal * u.second)**-(n - 1)"
   ]
  },
  {
   "cell_type": "code",
   "execution_count": 8,
   "metadata": {},
   "outputs": [],
   "source": [
    "background_fluid.viscosity = GEO.ViscousCreep(preExponentialFactor=reference_viscosity, stressExponent=2.0)"
   ]
  },
  {
   "cell_type": "markdown",
   "metadata": {},
   "source": [
    "## Define Boundary Conditions\n",
    "\n",
    "The boundary conditions are freeslip everywhere (zero shear stress)."
   ]
  },
  {
   "cell_type": "code",
   "execution_count": 9,
   "metadata": {},
   "outputs": [
    {
     "data": {
      "text/plain": [
       "<underworld.conditions._conditions.DirichletCondition at 0x7f10f1f8c198>"
      ]
     },
     "execution_count": 9,
     "metadata": {},
     "output_type": "execute_result"
    }
   ],
   "source": [
    "Model.set_velocityBCs(top=[1.0 * u.m / u.hour, 0.], bottom=[0., 0.], left=[None, 0.], right=[None, 0.])"
   ]
  },
  {
   "cell_type": "markdown",
   "metadata": {},
   "source": [
    "### Visualisation of the Initial Velocity field"
   ]
  },
  {
   "cell_type": "code",
   "execution_count": 10,
   "metadata": {},
   "outputs": [
    {
     "data": {
      "text/html": [
       "<img src='data:image/png;base64,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'>"
      ],
      "text/plain": [
       "<IPython.core.display.HTML object>"
      ]
     },
     "metadata": {},
     "output_type": "display_data"
    }
   ],
   "source": [
    "import underworld.function as fn\n",
    "\n",
    "# Calculate the velocity magnitude\n",
    "velocityMag = fn.math.dot(Model.velocityField, Model.velocityField)\n",
    "# Get a conversion factor to units of m/hr\n",
    "fact = GEO.dimensionalise(1.0, u.metre / u.hour).magnitude\n",
    "# Apply the factor to the velocity Magnitude\n",
    "velocityMag *= fact\n",
    "\n",
    "Fig = vis.Figure(figsize=(1000,600), title=\"Velocity field in m/h\")\n",
    "Fig.Surface(Model.mesh, velocityMag)\n",
    "Fig.VectorArrows(Model.mesh, Model.velocityField)\n",
    "Fig.show()"
   ]
  },
  {
   "cell_type": "markdown",
   "metadata": {},
   "source": [
    "## Init and Run Model"
   ]
  },
  {
   "cell_type": "code",
   "execution_count": 11,
   "metadata": {},
   "outputs": [],
   "source": [
    "Model.init_model()"
   ]
  },
  {
   "cell_type": "code",
   "execution_count": 12,
   "metadata": {},
   "outputs": [
    {
     "name": "stdout",
     "output_type": "stream",
     "text": [
      "Running with UWGeodynamics version 2.10.0-dev-b0ccd70(new_examples)\n",
      "Options:  -Q22_pc_type uw -ksp_type bsscr -pc_type none -ksp_k2_type NULL -rescale_equations False -remove_constant_pressure_null_space False -change_backsolve False -change_A11rhspresolve False -restore_K False -A11_ksp_type fgmres -A11_ksp_rtol 1e-06 -scr_ksp_type fgmres -scr_ksp_rtol 1e-05\n",
      "Step:     1 Model Time: 28.1 second dt: 28.1 second (2020-06-23 03:39:49)\n",
      "Step:     2 Model Time: 0.9 minute dt: 28.1 second (2020-06-23 03:39:58)\n"
     ]
    },
    {
     "data": {
      "text/plain": [
       "1"
      ]
     },
     "execution_count": 12,
     "metadata": {},
     "output_type": "execute_result"
    }
   ],
   "source": [
    "Model.run_for(nstep=2)"
   ]
  },
  {
   "cell_type": "code",
   "execution_count": 14,
   "metadata": {},
   "outputs": [
    {
     "data": {
      "text/html": [
       "<img src='data:image/png;base64,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'>"
      ],
      "text/plain": [
       "<IPython.core.display.HTML object>"
      ]
     },
     "metadata": {},
     "output_type": "display_data"
    }
   ],
   "source": [
    "Fig = vis.Figure(figsize=(1000,600), title=\"Velocity field in m/h\")\n",
    "Fig.Surface(Model.mesh, velocityMag)\n",
    "Fig.VectorArrows(Model.mesh, Model.velocityField)\n",
    "Fig.show()"
   ]
  },
  {
   "cell_type": "code",
   "execution_count": 15,
   "metadata": {},
   "outputs": [
    {
     "name": "stderr",
     "output_type": "stream",
     "text": [
      "/usr/lib/python3.7/site-packages/pint/quantity.py:1377: UnitStrippedWarning: The unit of the quantity is stripped.\n",
      "  warnings.warn(\"The unit of the quantity is stripped.\", UnitStrippedWarning)\n"
     ]
    },
    {
     "data": {
      "image/png": "[encoded data removed]",
      "text/plain": [
       "<Figure size 504x504 with 1 Axes>"
      ]
     },
     "metadata": {
      "needs_background": "light"
     },
     "output_type": "display_data"
    }
   ],
   "source": [
    "import matplotlib.pyplot as plt\n",
    "\n",
    "\n",
    "if GEO.nProcs == 1:\n",
    "\n",
    "    distances, vx = GEO.extract_profile(Model.velocityField[0], \n",
    "                                        line = [(-1.0 * u.m, Model.bottom), (-1.0 * u.m, Model.top)])\n",
    "\n",
    "    Fig, (ax1) = plt.subplots(1,1,figsize=(7,7))\n",
    "    ax1.plot(GEO.dimensionalise(vx, u.meter / u.hour), GEO.dimensionalise(distances, u.m))\n",
    "    ax1.set_ylabel(\"Depth in m\")\n",
    "    ax1.set_xlabel(\"velocity in meter / hour\")\n",
    "    ax1.set_title(\"Velocity Profile\")\n",
    "    \n",
    "plt.show()"
   ]
  }
 ],
 "metadata": {
  "kernelspec": {
   "display_name": "Python 3",
   "language": "python",
   "name": "python3"
  },
  "language_info": {
   "codemirror_mode": {
    "name": "ipython",
    "version": 3
   },
   "file_extension": ".py",
   "mimetype": "text/x-python",
   "name": "python",
   "nbconvert_exporter": "python",
   "pygments_lexer": "ipython3",
   "version": "3.7.3"
  }
 },
 "nbformat": 4,
 "nbformat_minor": 2
}
