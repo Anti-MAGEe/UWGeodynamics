{
 "cells": [
  {
   "cell_type": "code",
   "execution_count": null,
   "metadata": {
    "hide_input": true
   },
   "outputs": [],
   "source": [
    "import import_nb\n",
    "import ipywidgets as widgets\n",
    "from IPython.display import display, Image\n",
    "from IPython.display import clear_output\n",
    "import warnings; warnings.simplefilter('ignore')\n",
    "import importlib\n",
    "import sys"
   ]
  },
  {
   "cell_type": "code",
   "execution_count": null,
   "metadata": {
    "hide_input": true
   },
   "outputs": [],
   "source": [
    "vis_path = widgets.Text(\n",
    "    value='./output',\n",
    "    placeholder='Type something',\n",
    "    description='path to open:',\n",
    "    disabled=False\n",
    ")\n",
    "\n",
    "vis_go = widgets.Button(\n",
    "    description='Visualise',\n",
    "    disabled=False,\n",
    "    button_style='', # 'success', 'info', 'warning', 'danger' or ''\n",
    "    tooltip='Click me',\n",
    "    icon='check'\n",
    ")\n",
    "\n",
    "def goVis(c):\n",
    "    clear_output()\n",
    "    display(vis_path)\n",
    "    display(vis_go)\n",
    "    path = str(vis_path.value)\n",
    "    import_nb.vizualise(path)\n",
    "    \n",
    "vis_go.on_click(goVis)"
   ]
  },
  {
   "cell_type": "code",
   "execution_count": null,
   "metadata": {
    "hide_input": true
   },
   "outputs": [],
   "source": [
    "benchmarkoptions = widgets.Dropdown(\n",
    "    options=['SandboxExtension', 'SandboxCompression', 'SlabDetachment','SteadyHeat'],\n",
    "    description='Benchmark:',\n",
    "    disabled=False,\n",
    ")"
   ]
  },
  {
   "cell_type": "code",
   "execution_count": null,
   "metadata": {
    "hide_input": true
   },
   "outputs": [],
   "source": [
    "def on_change(change):\n",
    "    if change['type'] == 'change' and change['name'] == 'value':\n",
    "        print \"changed to %s\" % change['new']\n",
    "        \n",
    "def loadnb(change):\n",
    "    if change['type'] == 'change' and change['name'] == 'value':\n",
    "        model = change['new']\n",
    "        clear_output()\n",
    "        display(benchmarkoptions)\n",
    "        if sys.modules.has_key(model):\n",
    "            reload(sys.modules[model])\n",
    "        else:\n",
    "            importlib.import_module(model)\n",
    "benchmarkoptions.observe(loadnb)"
   ]
  },
  {
   "cell_type": "markdown",
   "metadata": {},
   "source": [
    "# Select a benchmark"
   ]
  },
  {
   "cell_type": "code",
   "execution_count": null,
   "metadata": {
    "hide_input": true,
    "scrolled": false
   },
   "outputs": [],
   "source": [
    "display(benchmarkoptions)"
   ]
  },
  {
   "cell_type": "markdown",
   "metadata": {},
   "source": [
    "# Visualise"
   ]
  },
  {
   "cell_type": "code",
   "execution_count": null,
   "metadata": {
    "hide_input": true
   },
   "outputs": [],
   "source": [
    "display(vis_path)\n",
    "display(vis_go)"
   ]
  }
 ],
 "metadata": {
  "kernelspec": {
   "display_name": "Python 2",
   "language": "python",
   "name": "python2"
  },
  "language_info": {
   "codemirror_mode": {
    "name": "ipython",
    "version": 2
   },
   "file_extension": ".py",
   "mimetype": "text/x-python",
   "name": "python",
   "nbconvert_exporter": "python",
   "pygments_lexer": "ipython2",
   "version": "2.7.13"
  }
 },
 "nbformat": 4,
 "nbformat_minor": 2
}
